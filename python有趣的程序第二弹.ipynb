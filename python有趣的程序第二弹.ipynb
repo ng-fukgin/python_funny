{
 "cells": [
  {
   "cell_type": "code",
   "execution_count": 1,
   "id": "1756f395",
   "metadata": {},
   "outputs": [],
   "source": [
    "from PIL import Image\n",
    "from PIL import ImageDraw,ImageFont\n",
    "import numpy as np\n",
    "import os\n",
    "\n",
    "\n",
    "def img2char(img_path):\n",
    "    \n",
    "    #im = Image.open(img_path) # 读取文件\n",
    "    im=img_path  #读取图像\n",
    "    img_width = im.size[0] # 提取照片宽度\n",
    "    img_height = im.size[1] # 提取照片高度\n",
    "\n",
    "    pix = im.load() # 提取像素值（输出pixel对象）\n",
    "\n",
    "    #print(\"The width of original Image is: %d, the height is %d\" % (img_width,img_height))\n",
    "\n",
    "    # 创建图像大小的三维数组\n",
    "    # 将数组内数值设为255 （空白图像）\n",
    "    create_array = np.ndarray([img_height,img_width,3], np.uint8)\n",
    "    create_array[:,:,:] = 255\n",
    "\t\n",
    "    # 从数组创建图片\n",
    "    create_img = Image.fromarray(create_array)\n",
    "\n",
    "    # 创建要绘制的类和字符串\n",
    "\n",
    "    chart = list(\"EVA this is Asuka ! \")\n",
    "    font = ImageFont.truetype(\"arial.ttf\", 15, encoding='unic')\n",
    "\n",
    "    pix_count = 0 # 统计像素数量，初始值设为0\n",
    "    sample_step = 5 # 采样步长，因为原始图片过大，不用每个像素都采。\n",
    "    len_chart = len(chart) # 字符串长度\n",
    "    Draw = ImageDraw.Draw(create_img) # 创建图片绘制对象\n",
    "\n",
    "    for x in range(img_width):\n",
    "        for y in range(img_height):\n",
    "            if x % sample_step == 0 and y % sample_step == 0:\n",
    "\t\t\t\n",
    "            \t# 按像素和采样率，将字符串绘制入前面所创建的空白图像\n",
    "                Draw.text([x,y], chart[pix_count % len_chart], pix[x,y], font)\n",
    "                #print(pix_count)\n",
    "\n",
    "                pix_count +=1\n",
    "    #保存图像\n",
    "    create_img.save(\"str_image.jpg\")\n",
    "\n",
    "    return create_img\n",
    "\n"
   ]
  },
  {
   "cell_type": "code",
   "execution_count": 2,
   "id": "ba3e519f",
   "metadata": {},
   "outputs": [
    {
     "ename": "AttributeError",
     "evalue": "'NoneType' object has no attribute '__array_interface__'",
     "output_type": "error",
     "traceback": [
      "\u001b[1;31m---------------------------------------------------------------------------\u001b[0m",
      "\u001b[1;31mAttributeError\u001b[0m                            Traceback (most recent call last)",
      "\u001b[1;32m~\\AppData\\Local\\Temp/ipykernel_13100/715918282.py\u001b[0m in \u001b[0;36m<module>\u001b[1;34m\u001b[0m\n\u001b[0;32m      6\u001b[0m     \u001b[0mret\u001b[0m\u001b[1;33m,\u001b[0m\u001b[0mframe\u001b[0m \u001b[1;33m=\u001b[0m \u001b[0mcap\u001b[0m\u001b[1;33m.\u001b[0m\u001b[0mread\u001b[0m\u001b[1;33m(\u001b[0m\u001b[1;33m)\u001b[0m\u001b[1;33m\u001b[0m\u001b[1;33m\u001b[0m\u001b[0m\n\u001b[0;32m      7\u001b[0m \u001b[1;33m\u001b[0m\u001b[0m\n\u001b[1;32m----> 8\u001b[1;33m     \u001b[0mima\u001b[0m\u001b[1;33m=\u001b[0m\u001b[0mimg2char\u001b[0m\u001b[1;33m(\u001b[0m\u001b[0mim\u001b[0m\u001b[1;33m.\u001b[0m\u001b[0mfromarray\u001b[0m\u001b[1;33m(\u001b[0m\u001b[0mframe\u001b[0m\u001b[1;33m)\u001b[0m\u001b[1;33m)\u001b[0m\u001b[1;33m\u001b[0m\u001b[1;33m\u001b[0m\u001b[0m\n\u001b[0m\u001b[0;32m      9\u001b[0m     \u001b[0mcv2\u001b[0m\u001b[1;33m.\u001b[0m\u001b[0mimshow\u001b[0m\u001b[1;33m(\u001b[0m\u001b[1;34m'video1'\u001b[0m\u001b[1;33m,\u001b[0m\u001b[0mframe\u001b[0m\u001b[1;33m)\u001b[0m\u001b[1;33m\u001b[0m\u001b[1;33m\u001b[0m\u001b[0m\n\u001b[0;32m     10\u001b[0m     \u001b[0mcv2\u001b[0m\u001b[1;33m.\u001b[0m\u001b[0mimshow\u001b[0m\u001b[1;33m(\u001b[0m\u001b[1;34m'video2'\u001b[0m\u001b[1;33m,\u001b[0m\u001b[0masarray\u001b[0m\u001b[1;33m(\u001b[0m\u001b[0mima\u001b[0m\u001b[1;33m)\u001b[0m\u001b[1;33m)\u001b[0m\u001b[1;33m\u001b[0m\u001b[1;33m\u001b[0m\u001b[0m\n",
      "\u001b[1;32mc:\\users\\uer\\appdata\\local\\programs\\python\\python37-32\\lib\\site-packages\\PIL\\Image.py\u001b[0m in \u001b[0;36mfromarray\u001b[1;34m(obj, mode)\u001b[0m\n\u001b[0;32m   2801\u001b[0m     \u001b[1;33m.\u001b[0m\u001b[1;33m.\u001b[0m \u001b[0mversionadded\u001b[0m\u001b[1;33m:\u001b[0m\u001b[1;33m:\u001b[0m \u001b[1;36m1.1\u001b[0m\u001b[1;36m.6\u001b[0m\u001b[1;33m\u001b[0m\u001b[1;33m\u001b[0m\u001b[0m\n\u001b[0;32m   2802\u001b[0m     \"\"\"\n\u001b[1;32m-> 2803\u001b[1;33m     \u001b[0marr\u001b[0m \u001b[1;33m=\u001b[0m \u001b[0mobj\u001b[0m\u001b[1;33m.\u001b[0m\u001b[0m__array_interface__\u001b[0m\u001b[1;33m\u001b[0m\u001b[1;33m\u001b[0m\u001b[0m\n\u001b[0m\u001b[0;32m   2804\u001b[0m     \u001b[0mshape\u001b[0m \u001b[1;33m=\u001b[0m \u001b[0marr\u001b[0m\u001b[1;33m[\u001b[0m\u001b[1;34m\"shape\"\u001b[0m\u001b[1;33m]\u001b[0m\u001b[1;33m\u001b[0m\u001b[1;33m\u001b[0m\u001b[0m\n\u001b[0;32m   2805\u001b[0m     \u001b[0mndim\u001b[0m \u001b[1;33m=\u001b[0m \u001b[0mlen\u001b[0m\u001b[1;33m(\u001b[0m\u001b[0mshape\u001b[0m\u001b[1;33m)\u001b[0m\u001b[1;33m\u001b[0m\u001b[1;33m\u001b[0m\u001b[0m\n",
      "\u001b[1;31mAttributeError\u001b[0m: 'NoneType' object has no attribute '__array_interface__'"
     ]
    }
   ],
   "source": [
    "import cv2\n",
    "from PIL import Image as im\n",
    "from numpy import asarray\n",
    "cap = cv2.VideoCapture(r'C:\\Users\\uer\\Desktop\\1.mp4')\n",
    "while cap.isOpened():\n",
    "    ret,frame = cap.read()\n",
    "   \n",
    "    ima=img2char(im.fromarray(frame))\n",
    "    cv2.imshow('video1',frame)\n",
    "    cv2.imshow('video2',asarray(ima))\n",
    "    c = cv2.waitKey(1)\n",
    "    if c == 27:\n",
    "        break\n",
    "        \n",
    "cap.release()\n",
    "cv2.destroyAllWindows()\n"
   ]
  },
  {
   "cell_type": "code",
   "execution_count": null,
   "id": "2db2b597",
   "metadata": {},
   "outputs": [],
   "source": []
  },
  {
   "cell_type": "code",
   "execution_count": null,
   "id": "7455f59a",
   "metadata": {},
   "outputs": [],
   "source": []
  }
 ],
 "metadata": {
  "kernelspec": {
   "display_name": "Python 3 (ipykernel)",
   "language": "python",
   "name": "python3"
  },
  "language_info": {
   "codemirror_mode": {
    "name": "ipython",
    "version": 3
   },
   "file_extension": ".py",
   "mimetype": "text/x-python",
   "name": "python",
   "nbconvert_exporter": "python",
   "pygments_lexer": "ipython3",
   "version": "3.7.2"
  }
 },
 "nbformat": 4,
 "nbformat_minor": 5
}
