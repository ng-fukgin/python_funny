{
 "cells": [
  {
   "cell_type": "code",
   "execution_count": 1,
   "id": "1756f395",
   "metadata": {},
   "outputs": [
    {
     "name": "stdout",
     "output_type": "stream",
     "text": [
      "line 16: mode: byte\n"
     ]
    },
    {
     "data": {
      "text/plain": [
       "(5, 'H', 'C:\\\\Users\\\\uer\\\\Desktop\\\\Py.gif')"
      ]
     },
     "execution_count": 1,
     "metadata": {},
     "output_type": "execute_result"
    }
   ],
   "source": [
    "from MyQR import myqr\n",
    "#使用前需要先安装myqr模块，终端里运行：pip install myqr\n",
    "myqr.run(\n",
    "    words='https://ng-fukgin.github.io/',\n",
    "    #扫描二维码后，显示的内容，或是跳转的链接\n",
    "    version=5,\n",
    "    #设置容错率。\n",
    "    level='H',\n",
    "    #控制纠错水平，范围是L、M、Q、H，从左到右依次升高\n",
    "    picture='test.gif',\n",
    "    #图片所在目录，可以是动图\n",
    "    colorized=True,\n",
    "    #黑白(False)还是彩色(True)\n",
    "    contrast=1.0,\n",
    "    #用以调节图片的对比度，1.0 表示原始图片，更小的值表示更低对比度，更大反之。默认为1.0。\n",
    "    brightness=1.0,\n",
    "    #用来调节图片的亮度，用法同上。\n",
    "    save_name='Py.gif',\n",
    "    #控制输出文件名，格式可以是 .jpg， .png ，.bmp ，.gif ；\n",
    ")"
   ]
  },
  {
   "cell_type": "code",
   "execution_count": null,
   "id": "2db2b597",
   "metadata": {},
   "outputs": [],
   "source": []
  },
  {
   "cell_type": "code",
   "execution_count": null,
   "id": "7455f59a",
   "metadata": {},
   "outputs": [],
   "source": []
  }
 ],
 "metadata": {
  "kernelspec": {
   "display_name": "Python 3 (ipykernel)",
   "language": "python",
   "name": "python3"
  },
  "language_info": {
   "codemirror_mode": {
    "name": "ipython",
    "version": 3
   },
   "file_extension": ".py",
   "mimetype": "text/x-python",
   "name": "python",
   "nbconvert_exporter": "python",
   "pygments_lexer": "ipython3",
   "version": "3.7.2"
  }
 },
 "nbformat": 4,
 "nbformat_minor": 5
}
