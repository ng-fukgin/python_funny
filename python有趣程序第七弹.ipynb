{
 "cells": [
  {
   "cell_type": "code",
   "execution_count": 1,
   "id": "837cfe3d",
   "metadata": {},
   "outputs": [
    {
     "ename": "SystemExit",
     "evalue": "0",
     "output_type": "error",
     "traceback": [
      "An exception has occurred, use %tb to see the full traceback.\n",
      "\u001b[1;31mSystemExit\u001b[0m\u001b[1;31m:\u001b[0m 0\n"
     ]
    },
    {
     "name": "stderr",
     "output_type": "stream",
     "text": [
      "C:\\ProgramData\\Anaconda3\\lib\\site-packages\\IPython\\core\\interactiveshell.py:3452: UserWarning: To exit: use 'exit', 'quit', or Ctrl-D.\n",
      "  warn(\"To exit: use 'exit', 'quit', or Ctrl-D.\", stacklevel=1)\n"
     ]
    }
   ],
   "source": [
    "import sys\n",
    "from PyQt5.QtWidgets import QWidget, QApplication, qApp\n",
    "from PyQt5.QtCore import Qt\n",
    "from Ui_weather import Ui_Form\n",
    "from query import *\n",
    "\n",
    "\n",
    "class Weather(QWidget, Ui_Form):\n",
    "    def __init__(self, parent=None):\n",
    "        # 继承主窗口类\n",
    "        super(Weather, self).__init__(parent)\n",
    "        self.setupUi(self)\n",
    "        self.initUi()\n",
    "\n",
    "    def initUi(self):\n",
    "        # 维护一个城市代码字典\n",
    "        self.table = read_code()\n",
    "        # 将 textEdit 设置为只读模式\n",
    "        self.textEdit.setReadOnly(True)\n",
    "        # 将鼠标焦点放在 lineEdit 编辑栏里\n",
    "        self.lineEdit.setFocus()\n",
    "\n",
    "    def queryWeather(self):\n",
    "        # 获取 lineEdit 中的文本\n",
    "        city = self.lineEdit.text()\n",
    "        err_msg = ''\n",
    "        try:\n",
    "            code = query_code(self.table, city)\n",
    "        except KeyError:\n",
    "            err_msg = '请输入正确的城市名称'\n",
    "\n",
    "        if not err_msg:\n",
    "            try:\n",
    "                info = query_weather(code)\n",
    "            except requests.ConnectionError:\n",
    "                err_msg = '请检查网络是否连接正确'\n",
    "\n",
    "        if not err_msg:\n",
    "            self.lineEdit.setFocus()\n",
    "            # 设置文本\n",
    "            self.textEdit.setText(info)\n",
    "            # 清空文本\n",
    "            self.lineEdit.clear()\n",
    "\n",
    "        else:\n",
    "            self.lineEdit.setFocus()\n",
    "            self.textEdit.setText(err_msg)\n",
    "            self.lineEdit.clear()\n",
    "\n",
    "    def keyPressEvent(self, e):\n",
    "        # 设置快捷键\n",
    "        if e.key() == Qt.Key_Return:\n",
    "            self.queryWeather()\n",
    "\n",
    "\n",
    "if __name__ == '__main__':\n",
    "    app = QApplication(sys.argv)\n",
    "    weather = Weather()\n",
    "    weather.show()\n",
    "    sys.exit(app.exec_())\n"
   ]
  },
  {
   "cell_type": "code",
   "execution_count": null,
   "id": "300bba00",
   "metadata": {},
   "outputs": [],
   "source": []
  }
 ],
 "metadata": {
  "kernelspec": {
   "display_name": "Python 3 (ipykernel)",
   "language": "python",
   "name": "python3"
  },
  "language_info": {
   "codemirror_mode": {
    "name": "ipython",
    "version": 3
   },
   "file_extension": ".py",
   "mimetype": "text/x-python",
   "name": "python",
   "nbconvert_exporter": "python",
   "pygments_lexer": "ipython3",
   "version": "3.9.7"
  },
  "toc": {
   "base_numbering": 1,
   "nav_menu": {},
   "number_sections": true,
   "sideBar": true,
   "skip_h1_title": false,
   "title_cell": "Table of Contents",
   "title_sidebar": "Contents",
   "toc_cell": false,
   "toc_position": {},
   "toc_section_display": true,
   "toc_window_display": false
  }
 },
 "nbformat": 4,
 "nbformat_minor": 5
}
