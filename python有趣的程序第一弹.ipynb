{
 "cells": [
  {
   "cell_type": "code",
   "execution_count": 5,
   "id": "1756f395",
   "metadata": {},
   "outputs": [
    {
     "data": {
      "text/plain": [
       "<__main__.YouLikeMe at 0xefbe8b0>"
      ]
     },
     "execution_count": 5,
     "metadata": {},
     "output_type": "execute_result"
    }
   ],
   "source": [
    "from tkinter import *\n",
    "from tkinter import messagebox\n",
    "import random\n",
    "class YouLikeMe:\n",
    "    def __init__(self):\n",
    "        window=Tk()\n",
    "        window.update()\n",
    "        def close_windows():\n",
    "            \n",
    "            window.destroy()#关闭窗口\n",
    "        label=Label(window,text='你是不是喜欢我？')\n",
    "        self.btyes=Button(window,text='是的',height=1,width=6, command=close_windows)#点击是的，关闭窗口\n",
    "        self.btno=Button(window,text='不是',height=1,width=6)\n",
    "        label.place(x=60,y=70)\n",
    "        self.btyes.place(x=40,y=130)\n",
    "        self.btno.place(x=120,y=130)\n",
    "        \n",
    "        self.btno.bind('<Enter>',self.event2)#绑定按钮事件，<Enter即为鼠标进入按钮的事件\n",
    "        def wanring_windows():\n",
    "            #####点击右上角关闭按钮出现警告框\n",
    "             messagebox.showwarning('警告','不喜欢我就不能退出')\n",
    "        \n",
    "        window.protocol(\"WM_DELETE_WINDOW\", wanring_windows)#绑定右上角关闭事件\n",
    "        window.mainloop()\n",
    "    def event2(self,event):\n",
    "        #随机改变按钮位置        \n",
    "        self.btno.place(x=random.randint(1,160),y=random.randint(1,160))\n",
    " \n",
    "YouLikeMe()\n",
    "\n"
   ]
  },
  {
   "cell_type": "code",
   "execution_count": null,
   "id": "ba3e519f",
   "metadata": {},
   "outputs": [],
   "source": []
  },
  {
   "cell_type": "code",
   "execution_count": null,
   "id": "2db2b597",
   "metadata": {},
   "outputs": [],
   "source": []
  }
 ],
 "metadata": {
  "kernelspec": {
   "display_name": "Python 3 (ipykernel)",
   "language": "python",
   "name": "python3"
  },
  "language_info": {
   "codemirror_mode": {
    "name": "ipython",
    "version": 3
   },
   "file_extension": ".py",
   "mimetype": "text/x-python",
   "name": "python",
   "nbconvert_exporter": "python",
   "pygments_lexer": "ipython3",
   "version": "3.7.2"
  }
 },
 "nbformat": 4,
 "nbformat_minor": 5
}
