{
 "cells": [
  {
   "cell_type": "code",
   "execution_count": null,
   "id": "503eaa73",
   "metadata": {},
   "outputs": [],
   "source": [
    "import random\n",
    "import turtle\n",
    "colors = ['red','cyan','pink' ,'yellow', 'green','orange']\n",
    "t = turtle.Turtle()\n",
    "t.speed(10)\n",
    "turtle.bgcolor(\"black\")\n",
    "length=100\n",
    "angle =50\n",
    "size=5\n",
    "for i in range(length):\n",
    "    color=random.choice(colors)\n",
    "    t.pencolor(color)\n",
    "    t.fillcolor(color)\n",
    "    t.penup()\n",
    "    t.forward(i+50)\n",
    "    t.pendown()\n",
    "    t.left(angle)\n",
    "    t.begin_fill()\n",
    "    t.circle(size)\n",
    "    t.end_fill()\n",
    "turtle.exitonclick()\n",
    "turtle.bgcolor(\"black\")"
   ]
  },
  {
   "cell_type": "code",
   "execution_count": null,
   "id": "3a99dbed",
   "metadata": {},
   "outputs": [],
   "source": []
  },
  {
   "cell_type": "code",
   "execution_count": null,
   "id": "35d7459b",
   "metadata": {},
   "outputs": [],
   "source": []
  },
  {
   "cell_type": "code",
   "execution_count": null,
   "id": "82b3cbe2",
   "metadata": {},
   "outputs": [],
   "source": []
  }
 ],
 "metadata": {
  "kernelspec": {
   "display_name": "Python 3 (ipykernel)",
   "language": "python",
   "name": "python3"
  },
  "language_info": {
   "codemirror_mode": {
    "name": "ipython",
    "version": 3
   },
   "file_extension": ".py",
   "mimetype": "text/x-python",
   "name": "python",
   "nbconvert_exporter": "python",
   "pygments_lexer": "ipython3",
   "version": "3.9.7"
  },
  "toc": {
   "base_numbering": 1,
   "nav_menu": {},
   "number_sections": true,
   "sideBar": true,
   "skip_h1_title": false,
   "title_cell": "Table of Contents",
   "title_sidebar": "Contents",
   "toc_cell": false,
   "toc_position": {},
   "toc_section_display": true,
   "toc_window_display": false
  }
 },
 "nbformat": 4,
 "nbformat_minor": 5
}
